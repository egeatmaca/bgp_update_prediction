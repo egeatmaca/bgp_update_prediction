{
 "cells": [
  {
   "cell_type": "code",
   "execution_count": 84,
   "id": "bc565dd6-54de-4663-a8e9-114da30407bb",
   "metadata": {},
   "outputs": [],
   "source": [
    "import numpy as np\n",
    "import pandas as pd\n",
    "import os\n",
    "from glob import glob\n",
    "import gc"
   ]
  },
  {
   "cell_type": "code",
   "execution_count": 85,
   "id": "7f23eee9-b07d-448a-8ed9-ba8c7ad4d616",
   "metadata": {},
   "outputs": [],
   "source": [
    "def read_file_paths(input_dir):\n",
    "    return sorted(glob(input_dir))"
   ]
  },
  {
   "cell_type": "code",
   "execution_count": 86,
   "id": "b9dd06dd-9e9e-41fc-b586-5fa6bd9b93d3",
   "metadata": {},
   "outputs": [],
   "source": [
    "def read_data(file_paths, start_file_idx=0, max_rows=3*10**6):\n",
    "    all_dfs = []\n",
    "    row_counter = 0\n",
    "    file_counter = 0\n",
    "    \n",
    "    for f in file_paths[start_file_idx:]:\n",
    "        df = pd.read_csv(f)\n",
    "        all_dfs.append(df)\n",
    "        row_counter += df.shape[0]\n",
    "        file_counter += 1\n",
    "        \n",
    "        if row_counter >= max_rows:\n",
    "            break\n",
    "    \n",
    "    df = pd.concat(all_dfs).reset_index(drop=True)\n",
    "    next_file_idx = start_file_idx + file_counter\n",
    "    \n",
    "    del all_dfs\n",
    "    gc.collect()\n",
    "\n",
    "    return df, next_file_idx"
   ]
  },
  {
   "cell_type": "code",
   "execution_count": 87,
   "id": "af546a73-43b9-403e-aa47-a6ece6dfae6e",
   "metadata": {},
   "outputs": [],
   "source": [
    "def add_origin_asn(df, prev_asn_by_prefix=None):\n",
    "    df = df.copy()\n",
    "    df['origin_asn'] = df.as_path.apply(lambda x: x.split(' ')[-1] if type(x)==str else None)\n",
    "    \n",
    "    origin_asn_by_prefix = df.groupby('prefix')['origin_asn'].last().to_frame()\n",
    "    if prev_asn_by_prefix is not None:\n",
    "        origin_asn_by_prefix = pd.concat([prev_asn_by_prefix, origin_asn_by_prefix]).groupby('prefix').last()\n",
    "    \n",
    "    df_origin_asn_fill = df[df.origin_asn.isna()].join(origin_asn_by_prefix, on='prefix', rsuffix='_fill')\n",
    "    df.loc[df_origin_asn_fill.index, 'origin_asn'] = df_origin_asn_fill['origin_asn']\n",
    "\n",
    "    return df, origin_asn_by_prefix"
   ]
  },
  {
   "cell_type": "code",
   "execution_count": 94,
   "id": "cf965921-12e9-4b6a-8e16-bda91083427a",
   "metadata": {},
   "outputs": [],
   "source": [
    "def split_data(input_dir='./data/updates/*', output_dir='./data/splitted'):\n",
    "    file_paths = read_file_paths(input_dir)\n",
    "    n_files = len(file_paths)\n",
    "    next_file_idx = 0\n",
    "    origin_asn_by_prefix = None\n",
    "\n",
    "    while next_file_idx < n_files:\n",
    "        df, next_file_idx = read_data(file_paths, start_file_idx=next_file_idx)\n",
    "        df, origin_asn_by_prefix = add_origin_asn(df, prev_asn_by_prefix=origin_asn_by_prefix)\n",
    "        \n",
    "        min_time = pd.to_datetime(df.time.min()*10**9).strftime('%Y-%m-%d %H:%M:%S')\n",
    "        max_time = pd.to_datetime(df.time.max()*10**9).strftime('%Y-%m-%d %H:%M:%S')\n",
    "\n",
    "        for origin_asn in df.origin_asn.unique():\n",
    "            df_asn = df.loc[df.origin_asn==origin_asn]\n",
    "            for prefix in df_asn.prefix.unique():\n",
    "                prefix_path = os.path.join(output_dir, origin_asn, prefix.replace('/', '|'))\n",
    "                file_path = os.path.join(prefix_path, f'{min_time} - {max_time}.csv')\n",
    "                \n",
    "                if not os.path.exists(prefix_path):\n",
    "                    os.makedirs(prefix_path)\n",
    "    \n",
    "                df_asn.loc[df.prefix==prefix].to_csv(file_path, index=False)"
   ]
  },
  {
   "cell_type": "code",
   "execution_count": null,
   "id": "6c87faa7-6385-4847-9eea-5dcce00495bb",
   "metadata": {},
   "outputs": [],
   "source": [
    "split_data()"
   ]
  },
  {
   "cell_type": "code",
   "execution_count": null,
   "id": "80f3931e-55e4-4d4b-8f18-a318da35f694",
   "metadata": {},
   "outputs": [],
   "source": []
  },
  {
   "cell_type": "code",
   "execution_count": null,
   "id": "b2592c2a-7cc2-4fdb-a2f8-abbde371bb06",
   "metadata": {},
   "outputs": [],
   "source": []
  }
 ],
 "metadata": {
  "kernelspec": {
   "display_name": "Python 3 (ipykernel)",
   "language": "python",
   "name": "python3"
  },
  "language_info": {
   "codemirror_mode": {
    "name": "ipython",
    "version": 3
   },
   "file_extension": ".py",
   "mimetype": "text/x-python",
   "name": "python",
   "nbconvert_exporter": "python",
   "pygments_lexer": "ipython3",
   "version": "3.13.1"
  }
 },
 "nbformat": 4,
 "nbformat_minor": 5
}
