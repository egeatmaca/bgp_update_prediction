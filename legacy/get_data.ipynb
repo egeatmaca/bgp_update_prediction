{
 "cells": [
  {
   "cell_type": "code",
   "execution_count": 1,
   "id": "8b9f54a1-0003-4372-afb2-4371b552da73",
   "metadata": {},
   "outputs": [],
   "source": [
    "import pybgpstream\n",
    "import pandas as pd\n",
    "import datetime as dt\n",
    "import os\n",
    "from time import time"
   ]
  },
  {
   "cell_type": "code",
   "execution_count": 5,
   "id": "3906b757-201f-4335-aeed-e0fee2c1289e",
   "metadata": {},
   "outputs": [],
   "source": [
    "def get_bgp_updates(from_time, until_time):    \n",
    "    stream = pybgpstream.BGPStream(\n",
    "        from_time=from_time, until_time=until_time,\n",
    "        collectors=[\"route-views.sg\", \"route-views.eqix\"],\n",
    "        record_type=\"updates\"\n",
    "    )\n",
    "\n",
    "    update_list = []\n",
    "    for elem in stream:\n",
    "        update = (elem.record_type, elem.type, elem.time, elem.project, elem.collector, elem.router, elem.router_ip,\n",
    "                      elem.peer_asn, elem.peer_address, elem._maybe_field(\"prefix\"), elem._maybe_field(\"next-hop\"), \n",
    "                      elem._maybe_field(\"as-path\"), ' '.join(elem.fields[\"communities\"]) if \"communities\" in elem.fields else None,\n",
    "                      elem._maybe_field(\"old-state\"), elem._maybe_field(\"new-state\"))\n",
    "        update_list.append(update)\n",
    "\n",
    "    columns=['record_type', 'type', 'time', 'project', 'collector', 'router', 'router_ip', 'peer_asn', 'peer_address', 'prefix', 'next-hop', 'as-path', 'communities', 'old_state', 'new_state']\n",
    "    updates = pd.DataFrame(update_list, columns=columns)\n",
    "    \n",
    "    return updates"
   ]
  },
  {
   "cell_type": "code",
   "execution_count": 10,
   "id": "d62aff90-73e9-4ab6-8ec3-bdeb7e426aa5",
   "metadata": {},
   "outputs": [],
   "source": [
    "def save_bgp_updates(from_time, until_time, iter_hours=1, data_dir='./data/'):\n",
    "    if not os.path.exists(data_dir):\n",
    "        os.makedirs(data_dir)\n",
    "    \n",
    "    from_time = dt.datetime.strptime(from_time, '%Y-%m-%d %H:%M:%S')\n",
    "    until_time = dt.datetime.strptime(until_time, '%Y-%m-%d %H:%M:%S')\n",
    "    \n",
    "    microsecond = dt.timedelta(microseconds=1)\n",
    "    time_delta = dt.timedelta(hours=iter_hours) - microsecond\n",
    "    from_time_iter = from_time\n",
    "    until_time_iter = from_time_iter + time_delta\n",
    "\n",
    "    while from_time_iter <= until_time:\n",
    "        until_time_iter = until_time_iter if until_time_iter <= until_time else until_time_iter\n",
    "        \n",
    "        from_time_iter_str = from_time_iter.strftime('%Y-%m-%d %H:%M:%S')\n",
    "        until_time_iter_str = until_time_iter.strftime('%Y-%m-%d %H:%M:%S')\n",
    "        \n",
    "        updates = get_bgp_updates(from_time_iter_str, until_time_iter_str)\n",
    "        updates.to_csv(os.path.join(data_dir, f'{from_time_iter_str} - {until_time_iter_str}'), index=False)\n",
    "        \n",
    "        from_time_iter = until_time_iter + microsecond\n",
    "        until_time_iter = from_time_iter + time_delta"
   ]
  },
  {
   "cell_type": "code",
   "execution_count": null,
   "id": "a6660548-0072-44b2-9f4a-3299dcbf51de",
   "metadata": {},
   "outputs": [],
   "source": [
    "start_time = time()\n",
    "df = save_bgp_updates(from_time=\"2024-07-08 00:00:00\", until_time=\"2024-07-21 00:00:00\")\n",
    "print(f'Finished in {time() - start_time}s!')"
   ]
  },
  {
   "cell_type": "code",
   "execution_count": null,
   "id": "2507de93-ce43-4b6a-93c7-eeb5c40ab1ca",
   "metadata": {},
   "outputs": [],
   "source": []
  }
 ],
 "metadata": {
  "kernelspec": {
   "display_name": "bgpstream-venv",
   "language": "python",
   "name": "venv"
  },
  "language_info": {
   "codemirror_mode": {
    "name": "ipython",
    "version": 3
   },
   "file_extension": ".py",
   "mimetype": "text/x-python",
   "name": "python",
   "nbconvert_exporter": "python",
   "pygments_lexer": "ipython3",
   "version": "3.12.7"
  }
 },
 "nbformat": 4,
 "nbformat_minor": 5
}
